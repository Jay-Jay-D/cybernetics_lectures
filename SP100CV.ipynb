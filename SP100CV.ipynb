{
 "cells": [
  {
   "cell_type": "code",
   "execution_count": 1,
   "metadata": {
    "collapsed": false
   },
   "outputs": [],
   "source": [
    "import pandas as pd\n",
    "import numpy as np\n",
    "import seaborn\n",
    "\n",
    "import statsmodels.api as sm"
   ]
  },
  {
   "cell_type": "code",
   "execution_count": 2,
   "metadata": {
    "collapsed": false
   },
   "outputs": [],
   "source": [
    "# Missing symbols [u'CMCSA', u'KFT', u'SLE', u'WAG']\n",
    "# All NaN values [BNI, DELL, HNZ, NIX]\n",
    "symbols = [\"AAPL\", \"MMM\", \"ABT\", \"AA\", \"ALL\", \"MO\", \"AMZN\", \"AEP\", \"AXP\", \"AMGN\",\n",
    "           \"T\", \"AVP\", \"BHI\", \"BAC\", \"BK\", \"BAX\", \"BA\", \"BMY\", \"BNI\", \"CPB\",\n",
    "           \"COF\", \"CAT\", \"CVX\", \"CSCO\", \"C\", \"KO\", \"CL\", \"COP\", \"COST\",\n",
    "           \"CVS\", \"DELL\", \"DVN\", \"DOW\", \"DD\", \"EMC\", \"ETR\", \"EXC\", \"XOM\", \"FDX\",\n",
    "           \"F\", \"FCX\", \"GD\", \"GE\", \"GILD\", \"GS\", \"GOOG\", \"HAL\", \"HPQ\", \"HNZ\",\n",
    "           \"HD\", \"HON\", \"INTC\", \"IBM\", \"JNJ\", \"JPM\", \"LMT\", \"LOW\", \"MA\",\n",
    "           \"MCD\", \"MDT\", \"MRK\", \"MET\", \"MSFT\", \"MON\", \"MS\", \"NOV\", \"NWSA\", \"NKE\",\n",
    "           \"NSC\", \"NYX\", \"OXY\", \"ORCL\", \"PEP\", \"PFE\", \"PM\", \"PG\", \"QCOM\", \"RTN\",\n",
    "           \"RF\", \"SLB\", \"SO\", \"S\", \"TGT\", \"TXN\",\"TWX\", \"UNH\", \"UPS\",\n",
    "           \"UTX\", \"USB\", \"VZ\", \"WMT\", \"DIS\", \"WFC\", \"WMB\", \"WY\", \"XRX\"]\n",
    "\n",
    "data = get_pricing(\n",
    "    symbols,\n",
    "    fields='close_price',\n",
    "    start_date='2014-01-01',\n",
    "    end_date = '2015-08-30',\n",
    "    frequency='minute'\n",
    ")"
   ]
  },
  {
   "cell_type": "code",
   "execution_count": 43,
   "metadata": {
    "collapsed": false
   },
   "outputs": [],
   "source": [
    "# Backfill nan's \n",
    "data.fillna(method='bfill', inplace=True)\n",
    "# Estimate the daily CV from the minute data\n",
    "df = (data.resample('D', how='std') / data.resample('D', how='mean')).dropna(axis=0, how='all')"
   ]
  },
  {
   "cell_type": "code",
   "execution_count": 61,
   "metadata": {
    "collapsed": true
   },
   "outputs": [],
   "source": [
    "# Estimate the squared r for each pair fo symbols\n",
    "R_results = np.zeros(len(symbols) - 1)\n",
    "for i in range(len(symbols) - 1):\n",
    "    results = sm.OLS(df.ix[:, 0], df.ix[:, i+1]).fit()\n",
    "    R_results[i] = results.rsquared\n",
    "\n",
    "R_df = pd.DataFrame(R_results, columns=[\"squared_r\"] , index=df.columns[1:])"
   ]
  },
  {
   "cell_type": "code",
   "execution_count": 62,
   "metadata": {
    "collapsed": false
   },
   "outputs": [
    {
     "data": {
      "text/html": [
       "<div style=\"max-height:1000px;max-width:1500px;overflow:auto;\">\n",
       "<table border=\"1\" class=\"dataframe\">\n",
       "  <thead>\n",
       "    <tr style=\"text-align: right;\">\n",
       "      <th></th>\n",
       "      <th>squared_r</th>\n",
       "    </tr>\n",
       "  </thead>\n",
       "  <tbody>\n",
       "    <tr>\n",
       "      <th>count</th>\n",
       "      <td>91.000000</td>\n",
       "    </tr>\n",
       "    <tr>\n",
       "      <th>mean</th>\n",
       "      <td>0.683246</td>\n",
       "    </tr>\n",
       "    <tr>\n",
       "      <th>std</th>\n",
       "      <td>0.047680</td>\n",
       "    </tr>\n",
       "    <tr>\n",
       "      <th>min</th>\n",
       "      <td>0.458411</td>\n",
       "    </tr>\n",
       "    <tr>\n",
       "      <th>25%</th>\n",
       "      <td>0.658470</td>\n",
       "    </tr>\n",
       "    <tr>\n",
       "      <th>50%</th>\n",
       "      <td>0.690842</td>\n",
       "    </tr>\n",
       "    <tr>\n",
       "      <th>75%</th>\n",
       "      <td>0.715632</td>\n",
       "    </tr>\n",
       "    <tr>\n",
       "      <th>max</th>\n",
       "      <td>0.753681</td>\n",
       "    </tr>\n",
       "  </tbody>\n",
       "</table>\n",
       "</div>"
      ],
      "text/plain": [
       "       squared_r\n",
       "count  91.000000\n",
       "mean    0.683246\n",
       "std     0.047680\n",
       "min     0.458411\n",
       "25%     0.658470\n",
       "50%     0.690842\n",
       "75%     0.715632\n",
       "max     0.753681"
      ]
     },
     "execution_count": 62,
     "metadata": {},
     "output_type": "execute_result"
    }
   ],
   "source": [
    "R_df.describe()"
   ]
  },
  {
   "cell_type": "code",
   "execution_count": 68,
   "metadata": {
    "collapsed": false
   },
   "outputs": [
    {
     "data": {
      "text/html": [
       "<div style=\"max-height:1000px;max-width:1500px;overflow:auto;\">\n",
       "<table border=\"1\" class=\"dataframe\">\n",
       "  <thead>\n",
       "    <tr style=\"text-align: right;\">\n",
       "      <th></th>\n",
       "      <th>squared_r</th>\n",
       "    </tr>\n",
       "  </thead>\n",
       "  <tbody>\n",
       "    <tr>\n",
       "      <th>Equity(12160 [COF])</th>\n",
       "      <td>0.753681</td>\n",
       "    </tr>\n",
       "    <tr>\n",
       "      <th>Equity(20088 [GS])</th>\n",
       "      <td>0.752018</td>\n",
       "    </tr>\n",
       "    <tr>\n",
       "      <th>Equity(8151 [WFC])</th>\n",
       "      <td>0.746235</td>\n",
       "    </tr>\n",
       "    <tr>\n",
       "      <th>Equity(25090 [HON])</th>\n",
       "      <td>0.743091</td>\n",
       "    </tr>\n",
       "    <tr>\n",
       "      <th>Equity(25006 [JPM])</th>\n",
       "      <td>0.742670</td>\n",
       "    </tr>\n",
       "    <tr>\n",
       "      <th>Equity(17080 [MS])</th>\n",
       "      <td>0.739850</td>\n",
       "    </tr>\n",
       "    <tr>\n",
       "      <th>Equity(25010 [USB])</th>\n",
       "      <td>0.738982</td>\n",
       "    </tr>\n",
       "    <tr>\n",
       "      <th>Equity(21418 [MET])</th>\n",
       "      <td>0.737268</td>\n",
       "    </tr>\n",
       "    <tr>\n",
       "      <th>Equity(1582 [CL])</th>\n",
       "      <td>0.733595</td>\n",
       "    </tr>\n",
       "    <tr>\n",
       "      <th>Equity(1900 [CSCO])</th>\n",
       "      <td>0.732865</td>\n",
       "    </tr>\n",
       "    <tr>\n",
       "      <th>Equity(3735 [HPQ])</th>\n",
       "      <td>0.732170</td>\n",
       "    </tr>\n",
       "    <tr>\n",
       "      <th>Equity(700 [BAC])</th>\n",
       "      <td>0.729171</td>\n",
       "    </tr>\n",
       "    <tr>\n",
       "      <th>Equity(3496 [HD])</th>\n",
       "      <td>0.728146</td>\n",
       "    </tr>\n",
       "    <tr>\n",
       "      <th>Equity(3766 [IBM])</th>\n",
       "      <td>0.728129</td>\n",
       "    </tr>\n",
       "    <tr>\n",
       "      <th>Equity(1335 [C])</th>\n",
       "      <td>0.726473</td>\n",
       "    </tr>\n",
       "    <tr>\n",
       "      <th>Equity(5938 [PG])</th>\n",
       "      <td>0.725810</td>\n",
       "    </tr>\n",
       "    <tr>\n",
       "      <th>Equity(5885 [PEP])</th>\n",
       "      <td>0.723640</td>\n",
       "    </tr>\n",
       "    <tr>\n",
       "      <th>Equity(3149 [GE])</th>\n",
       "      <td>0.723071</td>\n",
       "    </tr>\n",
       "    <tr>\n",
       "      <th>Equity(4799 [CVS])</th>\n",
       "      <td>0.722281</td>\n",
       "    </tr>\n",
       "    <tr>\n",
       "      <th>Equity(62 [ABT])</th>\n",
       "      <td>0.718449</td>\n",
       "    </tr>\n",
       "  </tbody>\n",
       "</table>\n",
       "</div>"
      ],
      "text/plain": [
       "                     squared_r\n",
       "Equity(12160 [COF])   0.753681\n",
       "Equity(20088 [GS])    0.752018\n",
       "Equity(8151 [WFC])    0.746235\n",
       "Equity(25090 [HON])   0.743091\n",
       "Equity(25006 [JPM])   0.742670\n",
       "Equity(17080 [MS])    0.739850\n",
       "Equity(25010 [USB])   0.738982\n",
       "Equity(21418 [MET])   0.737268\n",
       "Equity(1582 [CL])     0.733595\n",
       "Equity(1900 [CSCO])   0.732865\n",
       "Equity(3735 [HPQ])    0.732170\n",
       "Equity(700 [BAC])     0.729171\n",
       "Equity(3496 [HD])     0.728146\n",
       "Equity(3766 [IBM])    0.728129\n",
       "Equity(1335 [C])      0.726473\n",
       "Equity(5938 [PG])     0.725810\n",
       "Equity(5885 [PEP])    0.723640\n",
       "Equity(3149 [GE])     0.723071\n",
       "Equity(4799 [CVS])    0.722281\n",
       "Equity(62 [ABT])      0.718449"
      ]
     },
     "execution_count": 68,
     "metadata": {},
     "output_type": "execute_result"
    }
   ],
   "source": [
    "# Peek the 20 with the squared R respect to AAPL\n",
    "selected_stocks = R_df.sort(\"squared_r\", ascending=False)[:20]\n",
    "selected_stocks"
   ]
  },
  {
   "cell_type": "code",
   "execution_count": 67,
   "metadata": {
    "collapsed": false
   },
   "outputs": [
    {
     "name": "stdout",
     "output_type": "stream",
     "text": [
      "\"COF\", \"GS\", \"WFC\", \"HON\", \"JPM\", \"MS\", \"USB\", \"MET\", \"CL\", \"CSCO\", \"HPQ\", \"BAC\", \"HD\", \"IBM\", \"C\", \"PG\", \"PEP\", \"GE\", \"CVS\", \"ABT\",\n"
     ]
    }
   ],
   "source": [
    "for ticket in selected_stocks.index:\n",
    "    print '\"{0}\",'.format(ticket.symbol),"
   ]
  },
  {
   "cell_type": "code",
   "execution_count": null,
   "metadata": {
    "collapsed": true
   },
   "outputs": [],
   "source": []
  }
 ],
 "metadata": {
  "kernelspec": {
   "display_name": "Python 2",
   "language": "python",
   "name": "python2"
  },
  "language_info": {
   "codemirror_mode": {
    "name": "ipython",
    "version": 2
   },
   "file_extension": ".py",
   "mimetype": "text/x-python",
   "name": "python",
   "nbconvert_exporter": "python",
   "pygments_lexer": "ipython2",
   "version": "2.7.10"
  }
 },
 "nbformat": 4,
 "nbformat_minor": 0
}