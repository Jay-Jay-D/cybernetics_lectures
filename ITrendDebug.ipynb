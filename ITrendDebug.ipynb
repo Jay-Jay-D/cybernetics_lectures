{
 "cells": [
  {
   "cell_type": "code",
   "execution_count": 1,
   "metadata": {
    "collapsed": true
   },
   "outputs": [],
   "source": [
    "import numpy as np\n",
    "from numpy import pi\n",
    "\n",
    "def instantaneous_trend(na_series, period):\n",
    "    \"\"\"\n",
    "    Fast Trend.\n",
    "    --> Ref: Cybernetics, eq 2.9\n",
    "    :param na_series: numpy array with the series to be filtered.\n",
    "    :param period: the SMA equivalent period.\n",
    "    :return: a numpy array with the series filtered.\n",
    "    \"\"\"\n",
    "    alpha = 2.0 / (period + 1)       \n",
    "    a_ = (alpha / 2.0) ** 2\n",
    "    b_ = (1 - alpha)\n",
    "\n",
    "    it = np.zeros(len(na_series))\n",
    "    it[:2] = na_series[:2]\n",
    "\n",
    "    for n in range(2, len(na_series)):\n",
    "        if n < 7:\n",
    "            it[n] = (na_series[n] + 2 * na_series[n-1] + na_series[n-2]) / 4\n",
    "        else:\n",
    "            it[n] = (alpha - a_) * na_series[n] + (2 * a_) * na_series[n-1] - \\\n",
    "                    (alpha - 3 * a_) * na_series[n-2] + \\\n",
    "                    (2 * b_) * it[n-1] - (b_ ** 2) * it[n-2]\n",
    "    return it"
   ]
  },
  {
   "cell_type": "code",
   "execution_count": 4,
   "metadata": {
    "collapsed": false
   },
   "outputs": [
    {
     "data": {
      "text/plain": [
       "array([ 15.    ,  18.09  ,  18.015 ,  20.735 ,  22.8925,  24.2775,\n",
       "        24.755 ,  24.3836,  23.0445,  20.8039,  17.8648,  14.5236,\n",
       "        11.1232,   8.0166,   5.5265,   3.911 ,   3.3413,   3.8832,\n",
       "         5.4906,   8.0133])"
      ]
     },
     "execution_count": 4,
     "metadata": {},
     "output_type": "execute_result"
    }
   ],
   "source": [
    "idx = np.arange(20)\n",
    "\n",
    "na_series = 10 * np.sin(2 * pi / 20 * idx) + 15\n",
    "na_series = np.round(na_series, 2)\n",
    "\n",
    "itrend = instantaneous_trend(na_series, 5)\n",
    "itrend = np.round(itrend, 4)\n",
    "itrend"
   ]
  },
  {
   "cell_type": "markdown",
   "metadata": {},
   "source": [
    "## Excel output\n",
    "15,\n",
    "18.09,\n",
    "18.015,\n",
    "20.735,\n",
    "22.8925,\n",
    "24.2775,\n",
    "24.755,\n",
    "24.3836,\n",
    "23.0445,\n",
    "20.8039,\n",
    "17.8648,\n",
    "14.5236,\n",
    "11.1232,\n",
    "8.0166,\n",
    "5.5265,\n",
    "3.911,\n",
    "3.3413,\n",
    "3.8832,\n",
    "5.4906,\n",
    "8.0133,"
   ]
  }
 ],
 "metadata": {
  "kernelspec": {
   "display_name": "Python 2",
   "language": "python",
   "name": "python2"
  },
  "language_info": {
   "codemirror_mode": {
    "name": "ipython",
    "version": 2
   },
   "file_extension": ".py",
   "mimetype": "text/x-python",
   "name": "python",
   "nbconvert_exporter": "python",
   "pygments_lexer": "ipython2",
   "version": "2.7.9"
  }
 },
 "nbformat": 4,
 "nbformat_minor": 0
}
